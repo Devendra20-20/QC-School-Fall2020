{
 "cells": [
  {
   "cell_type": "markdown",
   "metadata": {},
   "source": [
    "# Variation Quantum Eigen Solver \n"
   ]
  },
  {
   "cell_type": "markdown",
   "metadata": {
    "slideshow": {
     "slide_type": "subslide"
    }
   },
   "source": [
    "We have gone through Shor's factoring algorithm and Grover's search algorithm. These algorithms require the \n",
    "quantum computer to do almost exactly what we program it to do-no room for (uncorrected)error. But as we are \n",
    "at the early NISQ (Noisy Intermediate-Scale Quantum) era, we cannot run long algorithms. A new type of algorithm started to appear since 2013 that focus on the getting an advantages from imperfect quantum computers called Variational-Quantum-Eigensolver(VQE). VQE is a quantum/classical hybrid algorithm that can be used to find eigenvalue of a (often large) matrix _H_(typically Hamiltonian of System). In this hybrid algorithm a quantum subrotine is run inside of a classical optimization loop.<br>\n",
    "\n",
    "The quantum subroutine has two fundatmental steps:<br>\n",
    "   1. Prepare the quantum state $|\\Psi(\\theta)\\rangle$, often called the ansatz.<br>\n",
    "   2. Measure the expectation value $\\langle\\,\\Psi(\\theta)\\,|\\,H\\,|\\,\\Psi(\\theta)\\,\\rangle$ <br>\n",
    "\n",
    "\n",
    "[Variational principle](http://farside.ph.utexas.edu/teaching/qmech/Quantum/node127.html) ensures that this expectation value is always greater than the smallest eigenvalue of _H_.<br> \n",
    "This bound allows us to use classical computation to run an optimization loop to find this eigenvalue:<br>\n",
    "  1. Use a classical non-linear optimizer to minimize the expectation value by varying ansatz parameters $(\\theta)$.<br>\n",
    "  2. Iterate until convergece. "
   ]
  },
  {
   "cell_type": "markdown",
   "metadata": {},
   "source": [
    "### Variational Form "
   ]
  },
  {
   "cell_type": "markdown",
   "metadata": {},
   "source": [
    "Variational Form: <br>\n",
    "Variational Form is parameterized circuit with a fixed form and its action may be represented by the linear \n",
    "transformation $U(\\theta)$. A variational form is applied to a starting state  $|\\Psi\\rangle$  (such as the vacuum state  $|0\\rangle$ , or the Hartree Fock state) and generates an output state  $U(\\theta)|\\psi\\rangle\\equiv |\\psi(\\theta)\\rangle$.Iterative optimization over $\\psi(\\theta)\\rangle$ aims to yeild an expectation value close to minimum ground state value $\\langle \\psi(\\theta)|H|\\psi(\\theta)\\rangle \\approx E_{gs} \\equiv \\lambda_{min}$.<br>\n",
    "While constrcuting a variational form we must balance two opposing goals.One, Ideally, our  $n$  qubit variational form would be able to generate any possible state  $|\\psi\\rangle$ where $|\\psi\\rangle \\in \\mathbb{C}^N$ and  $N=2^n$. Another, we would like the variational form to use as few parameters as possible.\n",
    "\n"
   ]
  },
  {
   "cell_type": "markdown",
   "metadata": {},
   "source": [
    "### Example with a Single Qubit Variational Form"
   ]
  },
  {
   "cell_type": "markdown",
   "metadata": {},
   "source": [
    "Use the simple single qubit variational form to solve a problem similar to ground state energy estimation. \n",
    "\n",
    "For the single qubit case, a variational form caple of generating any possible state is given by $U3$ gate which takes three parameters, $\\theta,\\phi$ and $\\lambda$ <br>\n",
    "\\begin{align}\n",
    "    U3(\\theta, \\phi, \\lambda) = \\begin{pmatrix}\\cos(\\frac{\\theta}{2}) & -e^{i\\lambda}\\sin(\\frac{\\theta}{2}) \\\\ e^{i\\phi}\\sin(\\frac{\\theta}{2}) & e^{i\\lambda + i\\phi}\\cos(\\frac{\\theta}{2}) \\end{pmatrix}\n",
    "\\end{align} <br>\n",
    "    and its circuit ![title](figures/U3_var_form.png)\n",
    "\n",
    "Specifically, we are given a random probability vector  $\\vec{x}$   and wish to determine a possible parameterization for our single qubit variational form such that it outputs a probability distribution that is close to  $\\vec{x}$"
   ]
  },
  {
   "cell_type": "code",
   "execution_count": 1,
   "metadata": {},
   "outputs": [
    {
     "name": "stdout",
     "output_type": "stream",
     "text": [
      "[0.51357006 0.48642994]\n"
     ]
    }
   ],
   "source": [
    "#Create the random probability Vector \n",
    "import numpy as np\n",
    "np.random.seed(999999)\n",
    "target_distr = np.random.rand(2)\n",
    "#print (target_distr)\n",
    "# We now convert the random vector into a valid probability vector\n",
    "target_distr /= sum(target_distr)\n",
    "print (target_distr) #This is our original state, we want our result close to this\n",
    "\n"
   ]
  },
  {
   "cell_type": "code",
   "execution_count": 2,
   "metadata": {},
   "outputs": [],
   "source": [
    "#This block of code is to make a function that takes the parameters of our single U3 variational form as argument \n",
    "#and returns the corresponding quantum circuit\n",
    "from qiskit import QuantumCircuit, ClassicalRegister, QuantumRegister\n",
    "def get_var_form(params):\n",
    "    qr = QuantumRegister(1, name=\"q\")\n",
    "    cr = ClassicalRegister(1, name='c')\n",
    "    qc = QuantumCircuit(qr, cr)\n",
    "   \n",
    "    qc.u3(params[0], params[1], params[2], qr[0])\n",
    "    qc.measure(qr, cr[0])\n",
    "    \n",
    "    return qc"
   ]
  },
  {
   "cell_type": "code",
   "execution_count": 7,
   "metadata": {},
   "outputs": [],
   "source": [
    "#Now specify the objective function which takes as input a list of the variational form's parameter and returns \n",
    "#the cost associated with those parameters(how much the final state is differ from intial state)\n",
    "from qiskit import Aer, execute\n",
    "backend = Aer.get_backend(\"qasm_simulator\")\n",
    "NUM_SHOTS = 10000\n",
    "\n",
    "def get_probability_distribution(counts):\n",
    "    output_distr = [v / NUM_SHOTS for v in counts.values()]\n",
    "    #print(\"Counts\",counts)\n",
    "    print (\"Count Values\",counts.values())\n",
    "    #print(\"Output_distr\",output_distr)\n",
    "    #print(\"Target_distr\",target_distr)\n",
    "    if len(output_distr) == 1:\n",
    "        output_distr.append(0)\n",
    "    return output_distr\n",
    "\n",
    "def objective_function(params):\n",
    "    # Obtain a quantum circuit instance from the paramters\n",
    "    qc = get_var_form(params)\n",
    "    \n",
    "    # Execute the quantum circuit to obtain the probability distribution associated with the current parameters\n",
    "    result = execute(qc, backend, shots=NUM_SHOTS).result()\n",
    "    print(\"Results\",result.get_counts(qc))\n",
    "    \n",
    "    # Obtain the counts for each measured state, and convert those counts into a probability vector\n",
    "    output_distr = get_probability_distribution(result.get_counts(qc))\n",
    "    \n",
    "    # Calculate the cost as the distance between the output distribution and the target distribution\n",
    "    cost = sum([np.abs(output_distr[i] - target_distr[i]) for i in range(2)])\n",
    "    #display(qc.draw('mpl'))\n",
    "    print('Input_distr:',target_distr)\n",
    "    print('Output_distr:',output_distr)\n",
    "    print('Cost',cost)\n",
    "    print('-------------')\n",
    "   \n",
    "    return cost #This step is similar as to get the minimum energy state using variational principle"
   ]
  },
  {
   "cell_type": "code",
   "execution_count": 8,
   "metadata": {},
   "outputs": [
    {
     "name": "stdout",
     "output_type": "stream",
     "text": [
      "Input parameters:-> [0.51943738 0.64862885 0.63905389]\n",
      "Results {'0': 9317, '1': 683}\n",
      "Counts {'0': 9317, '1': 683}\n",
      "Count Values dict_values([9317, 683])\n",
      "Input_distr: [0.51357006 0.48642994]\n",
      "Output_distr: [0.9317, 0.0683]\n",
      "Cost 0.8362598812611608\n",
      "-------------\n",
      "Results {'0': 5277, '1': 4723}\n",
      "Counts {'0': 5277, '1': 4723}\n",
      "Count Values dict_values([5277, 4723])\n",
      "Input_distr: [0.51357006 0.48642994]\n",
      "Output_distr: [0.5277, 0.4723]\n",
      "Cost 0.028259881261160802\n",
      "-------------\n",
      "Results {'0': 5305, '1': 4695}\n",
      "Counts {'0': 5305, '1': 4695}\n",
      "Count Values dict_values([5305, 4695])\n",
      "Input_distr: [0.51357006 0.48642994]\n",
      "Output_distr: [0.5305, 0.4695]\n",
      "Cost 0.03385988126116085\n",
      "-------------\n",
      "Results {'0': 5241, '1': 4759}\n",
      "Counts {'0': 5241, '1': 4759}\n",
      "Count Values dict_values([5241, 4759])\n",
      "Input_distr: [0.51357006 0.48642994]\n",
      "Output_distr: [0.5241, 0.4759]\n",
      "Cost 0.021059881261160873\n",
      "-------------\n",
      "Results {'0': 950, '1': 9050}\n",
      "Counts {'0': 950, '1': 9050}\n",
      "Count Values dict_values([950, 9050])\n",
      "Input_distr: [0.51357006 0.48642994]\n",
      "Output_distr: [0.095, 0.905]\n",
      "Cost 0.8371401187388392\n",
      "-------------\n",
      "Results {'0': 7646, '1': 2354}\n",
      "Counts {'0': 7646, '1': 2354}\n",
      "Count Values dict_values([7646, 2354])\n",
      "Input_distr: [0.51357006 0.48642994]\n",
      "Output_distr: [0.7646, 0.2354]\n",
      "Cost 0.5020598812611607\n",
      "-------------\n",
      "Results {'0': 5199, '1': 4801}\n",
      "Counts {'0': 5199, '1': 4801}\n",
      "Count Values dict_values([5199, 4801])\n",
      "Input_distr: [0.51357006 0.48642994]\n",
      "Output_distr: [0.5199, 0.4801]\n",
      "Cost 0.012659881261160855\n",
      "-------------\n",
      "Results {'0': 2884, '1': 7116}\n",
      "Counts {'0': 2884, '1': 7116}\n",
      "Count Values dict_values([2884, 7116])\n",
      "Input_distr: [0.51357006 0.48642994]\n",
      "Output_distr: [0.2884, 0.7116]\n",
      "Cost 0.45034011873883917\n",
      "-------------\n",
      "Results {'0': 6545, '1': 3455}\n",
      "Counts {'0': 6545, '1': 3455}\n",
      "Count Values dict_values([6545, 3455])\n",
      "Input_distr: [0.51357006 0.48642994]\n",
      "Output_distr: [0.6545, 0.3455]\n",
      "Cost 0.28185988126116085\n",
      "-------------\n",
      "Results {'0': 5186, '1': 4814}\n",
      "Counts {'0': 5186, '1': 4814}\n",
      "Count Values dict_values([5186, 4814])\n",
      "Input_distr: [0.51357006 0.48642994]\n",
      "Output_distr: [0.5186, 0.4814]\n",
      "Cost 0.010059881261160808\n",
      "-------------\n",
      "Results {'0': 3964, '1': 6036}\n",
      "Counts {'0': 3964, '1': 6036}\n",
      "Count Values dict_values([3964, 6036])\n",
      "Input_distr: [0.51357006 0.48642994]\n",
      "Output_distr: [0.3964, 0.6036]\n",
      "Cost 0.2343401187388392\n",
      "-------------\n",
      "Results {'0': 5842, '1': 4158}\n",
      "Counts {'0': 5842, '1': 4158}\n",
      "Count Values dict_values([5842, 4158])\n",
      "Input_distr: [0.51357006 0.48642994]\n",
      "Output_distr: [0.5842, 0.4158]\n",
      "Cost 0.1412598812611609\n",
      "-------------\n",
      "Results {'0': 5273, '1': 4727}\n",
      "Counts {'0': 5273, '1': 4727}\n",
      "Count Values dict_values([5273, 4727])\n",
      "Input_distr: [0.51357006 0.48642994]\n",
      "Output_distr: [0.5273, 0.4727]\n",
      "Cost 0.027459881261160834\n",
      "-------------\n",
      "Results {'0': 4607, '1': 5393}\n",
      "Counts {'0': 4607, '1': 5393}\n",
      "Count Values dict_values([4607, 5393])\n",
      "Input_distr: [0.51357006 0.48642994]\n",
      "Output_distr: [0.4607, 0.5393]\n",
      "Cost 0.10574011873883915\n",
      "-------------\n",
      "Results {'0': 4938, '1': 5062}\n",
      "Counts {'0': 4938, '1': 5062}\n",
      "Count Values dict_values([4938, 5062])\n",
      "Input_distr: [0.51357006 0.48642994]\n",
      "Output_distr: [0.4938, 0.5062]\n",
      "Cost 0.039540118738839114\n",
      "-------------\n",
      "Results {'0': 5378, '1': 4622}\n",
      "Counts {'0': 5378, '1': 4622}\n",
      "Count Values dict_values([5378, 4622])\n",
      "Input_distr: [0.51357006 0.48642994]\n",
      "Output_distr: [0.5378, 0.4622]\n",
      "Cost 0.0484598812611608\n",
      "-------------\n",
      "Results {'0': 5199, '1': 4801}\n",
      "Counts {'0': 5199, '1': 4801}\n",
      "Count Values dict_values([5199, 4801])\n",
      "Input_distr: [0.51357006 0.48642994]\n",
      "Output_distr: [0.5199, 0.4801]\n",
      "Cost 0.012659881261160855\n",
      "-------------\n",
      "Results {'0': 5192, '1': 4808}\n",
      "Counts {'0': 5192, '1': 4808}\n",
      "Count Values dict_values([5192, 4808])\n",
      "Input_distr: [0.51357006 0.48642994]\n",
      "Output_distr: [0.5192, 0.4808]\n",
      "Cost 0.011259881261160842\n",
      "-------------\n",
      "Results {'0': 5174, '1': 4826}\n",
      "Counts {'0': 5174, '1': 4826}\n",
      "Count Values dict_values([5174, 4826])\n",
      "Input_distr: [0.51357006 0.48642994]\n",
      "Output_distr: [0.5174, 0.4826]\n",
      "Cost 0.00765988126116085\n",
      "-------------\n",
      "Results {'0': 5180, '1': 4820}\n",
      "Counts {'0': 5180, '1': 4820}\n",
      "Count Values dict_values([5180, 4820])\n",
      "Input_distr: [0.51357006 0.48642994]\n",
      "Output_distr: [0.518, 0.482]\n",
      "Cost 0.008859881261160885\n",
      "-------------\n",
      "Results {'0': 5188, '1': 4812}\n",
      "Counts {'0': 5188, '1': 4812}\n",
      "Count Values dict_values([5188, 4812])\n",
      "Input_distr: [0.51357006 0.48642994]\n",
      "Output_distr: [0.5188, 0.4812]\n",
      "Cost 0.010459881261160875\n",
      "-------------\n",
      "Results {'0': 5128, '1': 4872}\n",
      "Counts {'0': 5128, '1': 4872}\n",
      "Count Values dict_values([5128, 4872])\n",
      "Input_distr: [0.51357006 0.48642994]\n",
      "Output_distr: [0.5128, 0.4872]\n",
      "Cost 0.0015401187388391357\n",
      "-------------\n",
      "Results {'0': 5076, '1': 4924}\n",
      "Counts {'0': 5076, '1': 4924}\n",
      "Count Values dict_values([5076, 4924])\n",
      "Input_distr: [0.51357006 0.48642994]\n",
      "Output_distr: [0.5076, 0.4924]\n",
      "Cost 0.0119401187388391\n",
      "-------------\n",
      "Results {'0': 5119, '1': 4881}\n",
      "Counts {'0': 5119, '1': 4881}\n",
      "Count Values dict_values([5119, 4881])\n",
      "Input_distr: [0.51357006 0.48642994]\n",
      "Output_distr: [0.5119, 0.4881]\n",
      "Cost 0.003340118738839104\n",
      "-------------\n",
      "Results {'0': 5002, '1': 4998}\n",
      "Counts {'0': 5002, '1': 4998}\n",
      "Count Values dict_values([5002, 4998])\n",
      "Input_distr: [0.51357006 0.48642994]\n",
      "Output_distr: [0.5002, 0.4998]\n",
      "Cost 0.02674011873883919\n",
      "-------------\n",
      "Results {'0': 5080, '1': 4920}\n",
      "Counts {'0': 5080, '1': 4920}\n",
      "Count Values dict_values([5080, 4920])\n",
      "Input_distr: [0.51357006 0.48642994]\n",
      "Output_distr: [0.508, 0.492]\n",
      "Cost 0.011140118738839133\n",
      "-------------\n",
      "Results {'0': 5002, '1': 4998}\n",
      "Counts {'0': 5002, '1': 4998}\n",
      "Count Values dict_values([5002, 4998])\n",
      "Input_distr: [0.51357006 0.48642994]\n",
      "Output_distr: [0.5002, 0.4998]\n",
      "Cost 0.02674011873883919\n",
      "-------------\n",
      "Results {'0': 5136, '1': 4864}\n",
      "Counts {'0': 5136, '1': 4864}\n",
      "Count Values dict_values([5136, 4864])\n",
      "Input_distr: [0.51357006 0.48642994]\n",
      "Output_distr: [0.5136, 0.4864]\n",
      "Cost 5.988126116079906e-05\n",
      "-------------\n",
      "Results {'0': 5090, '1': 4910}\n",
      "Counts {'0': 5090, '1': 4910}\n",
      "Count Values dict_values([5090, 4910])\n",
      "Input_distr: [0.51357006 0.48642994]\n",
      "Output_distr: [0.509, 0.491]\n",
      "Cost 0.009140118738839131\n",
      "-------------\n",
      "Results {'0': 5068, '1': 4932}\n",
      "Counts {'0': 5068, '1': 4932}\n",
      "Count Values dict_values([5068, 4932])\n",
      "Input_distr: [0.51357006 0.48642994]\n",
      "Output_distr: [0.5068, 0.4932]\n",
      "Cost 0.013540118738839146\n",
      "-------------\n",
      "Results {'0': 5209, '1': 4791}\n",
      "Counts {'0': 5209, '1': 4791}\n",
      "Count Values dict_values([5209, 4791])\n",
      "Input_distr: [0.51357006 0.48642994]\n",
      "Output_distr: [0.5209, 0.4791]\n",
      "Cost 0.014659881261160856\n",
      "-------------\n",
      "Results {'0': 5035, '1': 4965}\n",
      "Counts {'0': 5035, '1': 4965}\n",
      "Count Values dict_values([5035, 4965])\n",
      "Input_distr: [0.51357006 0.48642994]\n",
      "Output_distr: [0.5035, 0.4965]\n",
      "Cost 0.020140118738839197\n",
      "-------------\n",
      "Results {'0': 5155, '1': 4845}\n",
      "Counts {'0': 5155, '1': 4845}\n",
      "Count Values dict_values([5155, 4845])\n",
      "Input_distr: [0.51357006 0.48642994]\n",
      "Output_distr: [0.5155, 0.4845]\n",
      "Cost 0.0038598812611608246\n",
      "-------------\n",
      "Results {'0': 5137, '1': 4863}\n",
      "Counts {'0': 5137, '1': 4863}\n",
      "Count Values dict_values([5137, 4863])\n",
      "Input_distr: [0.51357006 0.48642994]\n",
      "Output_distr: [0.5137, 0.4863]\n",
      "Cost 0.00025988126116088806\n",
      "-------------\n",
      "Results {'0': 5011, '1': 4989}\n",
      "Counts {'0': 5011, '1': 4989}\n",
      "Count Values dict_values([5011, 4989])\n",
      "Input_distr: [0.51357006 0.48642994]\n",
      "Output_distr: [0.5011, 0.4989]\n",
      "Cost 0.024940118738839168\n",
      "-------------\n",
      "Results {'0': 5033, '1': 4967}\n",
      "Counts {'0': 5033, '1': 4967}\n",
      "Count Values dict_values([5033, 4967])\n",
      "Input_distr: [0.51357006 0.48642994]\n",
      "Output_distr: [0.5033, 0.4967]\n",
      "Cost 0.020540118738839153\n",
      "-------------\n",
      "Results {'0': 5107, '1': 4893}\n",
      "Counts {'0': 5107, '1': 4893}\n",
      "Count Values dict_values([5107, 4893])\n",
      "Input_distr: [0.51357006 0.48642994]\n",
      "Output_distr: [0.5107, 0.4893]\n",
      "Cost 0.005740118738839117\n",
      "-------------\n",
      "Results {'0': 5116, '1': 4884}\n",
      "Counts {'0': 5116, '1': 4884}\n",
      "Count Values dict_values([5116, 4884])\n",
      "Input_distr: [0.51357006 0.48642994]\n",
      "Output_distr: [0.5116, 0.4884]\n",
      "Cost 0.0039401187388390935\n",
      "-------------\n",
      "Results {'0': 5121, '1': 4879}\n",
      "Counts {'0': 5121, '1': 4879}\n",
      "Count Values dict_values([5121, 4879])\n",
      "Input_distr: [0.51357006 0.48642994]\n",
      "Output_distr: [0.5121, 0.4879]\n",
      "Cost 0.002940118738839148\n",
      "-------------\n",
      "Results {'0': 5124, '1': 4876}\n",
      "Counts {'0': 5124, '1': 4876}\n",
      "Count Values dict_values([5124, 4876])\n",
      "Input_distr: [0.51357006 0.48642994]\n",
      "Output_distr: [0.5124, 0.4876]\n",
      "Cost 0.0023401187388391587\n",
      "-------------\n",
      "Results {'0': 5185, '1': 4815}\n",
      "Counts {'0': 5185, '1': 4815}\n",
      "Count Values dict_values([5185, 4815])\n",
      "Input_distr: [0.51357006 0.48642994]\n",
      "Output_distr: [0.5185, 0.4815]\n",
      "Cost 0.00985988126116083\n",
      "-------------\n",
      "Counts {'0': 5213, '1': 4787}\n",
      "Count Values dict_values([5213, 4787])\n",
      "Target Distribution: [0.51357006 0.48642994]\n",
      "Obtained Distribution: [0.5213, 0.4787]\n",
      "Output Error (Manhattan Distance): 0.00985988126116083\n",
      "Parameters Found: [1.54606992 0.38422931 1.76671997]\n"
     ]
    }
   ],
   "source": [
    "#Finally COBYLA optimizer is used and run the algorithm. \n",
    "from qiskit.aqua.components.optimizers import COBYLA \n",
    "# Constrained Optimization by Linear Approximation optimizer (COBYLA)\n",
    "\n",
    "# Initialize the COBYLA optimizer\n",
    "\n",
    "optimizer = COBYLA(maxiter=500, disp=True,tol=0.0001)\n",
    "\n",
    "# Create the initial parameters (noting that our single qubit variational form has 3 parameters)\n",
    "params = np.random.rand(3)\n",
    "print ('Input parameters:->',params)\n",
    "ret = optimizer.optimize(num_vars=3, objective_function=objective_function, initial_point=params)\n",
    "\n",
    "#print(\"ret==>\",ret)\n",
    "# Obtain the output distribution using the final parameters\n",
    "\n",
    "qc = get_var_form(ret[0])\n",
    "counts = execute(qc, backend, shots=NUM_SHOTS).result().get_counts(qc)\n",
    "output_distr = get_probability_distribution(counts)\n",
    "print(\"Target Distribution:\", target_distr)\n",
    "print(\"Obtained Distribution:\", output_distr)\n",
    "print(\"Output Error (Manhattan Distance):\", ret[1])\n",
    "print(\"Parameters Found:\", ret[0])"
   ]
  },
  {
   "cell_type": "markdown",
   "metadata": {},
   "source": [
    "# VQE Implementation in Qiskit"
   ]
  },
  {
   "cell_type": "markdown",
   "metadata": {},
   "source": [
    "In this example, decompose the computation of the ground state energy of a molecule into 4 steps:<br>\n",
    "1. Define a molecule and [get integrals](https://arxiv.org/pdf/1509.04279.pdf) from a computational chemistry driver (PySCF in this case) <br>\n",
    "2. [Construct a Fermionic Hamiltonian and map it onto a qubit Hamiltonian](https://www.youtube.com/watch?v=DWOfMWPKHDU&list=PLZvSQ75Jheh_gUgGPC4TM7Lw3sWmdXDkh&index=23&ab_channel=Qiskit)<br>\n",
    "3. [Instantiate and initialize dynamically-loaded algorithmic components, such as the quantum algorithm VQE, the optimizer and variational form it will use, and the initial_state to initialize the variational form](https://www.youtube.com/watch?v=3B04KB0pDwE&list=PLOFEBzvs-VvrXTMy5Y2IqmSaUjfnhvBHR&index=37&ab_channel=Qiskit)<br>\n",
    "4. Run the algorithm on a quantum backend and retrieve the results.<br>"
   ]
  },
  {
   "cell_type": "markdown",
   "metadata": {},
   "source": [
    "![title](figures/Variational_Circuit.png)"
   ]
  },
  {
   "cell_type": "code",
   "execution_count": 13,
   "metadata": {},
   "outputs": [],
   "source": [
    "from qiskit.aqua.algorithms import VQE, NumPyEigensolver\n",
    "import matplotlib.pyplot as plt\n",
    "import numpy as np\n",
    "from qiskit.chemistry.components.variational_forms import UCCSD\n",
    "from qiskit.chemistry.components.initial_states import HartreeFock\n",
    "from qiskit.circuit.library import EfficientSU2\n",
    "from qiskit.aqua.components.optimizers import COBYLA, SPSA, SLSQP\n",
    "from qiskit.aqua.operators import Z2Symmetries\n",
    "from qiskit import IBMQ, BasicAer, Aer\n",
    "from qiskit.chemistry.drivers import PySCFDriver, UnitsType\n",
    "from qiskit.chemistry import FermionicOperator\n",
    "from qiskit import IBMQ\n",
    "from qiskit.aqua import QuantumInstance\n",
    "from qiskit.ignis.mitigation.measurement import CompleteMeasFitter\n",
    "from qiskit.providers.aer.noise import NoiseModel"
   ]
  },
  {
   "cell_type": "code",
   "execution_count": null,
   "metadata": {},
   "outputs": [],
   "source": []
  },
  {
   "cell_type": "code",
   "execution_count": 14,
   "metadata": {},
   "outputs": [],
   "source": [
    "def get_qubit_op(dist):\n",
    "    #Step 1: Define a molecule\n",
    "    #Here, we use LiH in the sto3g basis with the PySCF driver as an example. \n",
    "    #The molecule object records the information from the PySCF driver.\n",
    "    driver = PySCFDriver(atom=\"Li .0 .0 .0; H .0 .0 \" + str(dist), unit=UnitsType.ANGSTROM, \n",
    "                         charge=0, spin=0, basis='sto3g')\n",
    "    #sto3g-> small toy model\n",
    "    molecule = driver.run()\n",
    "    #ferOp_nofreeze=FermionicOperator(h1=molecule.one_body_integrals, h2=molecule.two_body_integrals)\n",
    "\n",
    "    freeze_list = [0]\n",
    "    remove_list = [-3, -2]\n",
    "    repulsion_energy = molecule.nuclear_repulsion_energy \n",
    "    #under Born Opperhiemer Approximation all the nuclei are stationary \n",
    "    #so their contribution to the ground state energy is only nuclear repulsion. \n",
    "    #print(repulsion_energy) #in Hatree Unit\n",
    "    \n",
    "    num_particles = molecule.num_alpha + molecule.num_beta #number of electrons in the system\n",
    "    #print(\"number of particles==>\",num_particles) #4\n",
    "    num_spin_orbitals = molecule.num_orbitals * 2 #number of spin orbital is twice of that space orbitals\n",
    "    \n",
    "    \n",
    "    print(\"number of spin orbitals\",num_spin_orbitals)\n",
    "    #as spin degeneracy is 2\n",
    "    remove_list = [x % molecule.num_orbitals for x in remove_list] \n",
    "    #% in interpreted language: Reminder=dividend-divisor*floor(quotient)\n",
    "    #==> R_0 = -3 -6*(-1) = +3 and R_1= -2-6*(-1) = +4 \n",
    "    \n",
    "    #print ('freeze_list=>',freeze_list) #[0]\n",
    "    #print ('Remove list=>',remove_list) #[3,4]\n",
    "    freeze_list = [x % molecule.num_orbitals for x in freeze_list]\n",
    "    remove_list = [x - len(freeze_list) for x in remove_list]\n",
    "    #print ('freeze_list=>',freeze_list) #[0]\n",
    "    #print ('Remove list=>',remove_list) #[2,3]\n",
    "    remove_list += [x + molecule.num_orbitals - len(freeze_list)  for x in remove_list]\n",
    "    freeze_list += [x + molecule.num_orbitals for x in freeze_list]\n",
    "    print ('Remove list=>',remove_list) #[2,3,7,8]\n",
    "    print ('freeze_list=>',freeze_list) #[0,6]\n",
    "    \n",
    "    \n",
    "    #Define Fermionic Operator\n",
    "    ferOp = FermionicOperator(h1=molecule.one_body_integrals, h2=molecule.two_body_integrals)\n",
    "    ferOp, energy_shift = ferOp.fermion_mode_freezing(freeze_list)# the frozen electron(2 inner electron from Li+) \n",
    "    #do not interact with other electrons but contribute by a constant term to the total ground state energy\n",
    "    num_spin_orbitals -= len(freeze_list) #rescale num_spin_orbiatls after freeze list\n",
    "    num_particles -= len(freeze_list) \n",
    "    print(\"number of particles==>\",num_particles) #print=>2 \n",
    "    \n",
    "    ferOp = ferOp.fermion_mode_elimination(remove_list)\n",
    "    h1=molecule.one_body_integrals\n",
    "    h2=molecule.two_body_integrals\n",
    "    #print('one body integral=>')\n",
    "    #print (ferOp_nofreeze.h1) #intialially it has 12 \n",
    "    #print('one body integral after freezeing and removing')\n",
    "    #print(ferOp.h1) # after applying freeze and remove it drop down to 6 \n",
    "    #print('-------------------------------------------')\n",
    "    #print('two body integrals=>')\n",
    "    #print(ferOp.h2)\n",
    "    #print ('------------------------------')\n",
    "    num_spin_orbitals -= len(remove_list)\n",
    "    #print(\"========================Fermionic Operator After applying freezing and removing list==================\")\n",
    "    #print (ferOp)\n",
    "    \n",
    "    #Create a Qubit Operator \n",
    "    qubitOp = ferOp.mapping(map_type='parity', threshold=0.00000001)\n",
    "    #print (\"=====Qubit Operator berfore applying parity========\")\n",
    "    \n",
    "    print(qubitOp) # qubits is 6 which is same as fermionic operator after applying freezing and removing list\n",
    "    \n",
    "    print(Z2Symmetries.find_Z2_symmetries(qubitOp))#Show spin and charge symmetries, so two conserved quantities\n",
    "    #which will further helps to reduce the qubitOp\n",
    "    qubitOp = Z2Symmetries.two_qubit_reduction(qubitOp, num_particles)\n",
    "    shift = energy_shift + repulsion_energy \n",
    "    #shift is the enegy comming from repulsion energy of two nuclei under Born–Oppenheimer approximation and\n",
    "    #and freezing two electrons\n",
    "    #print(\"-----------------Qubit Operator after appying parity---------------------\")\n",
    "    #print (qubitOp) # give type of operator(paulis) working on number of qubits(6) and number of paulis operator \n",
    "    #print(qubitOp.print_details()) \n",
    "    return qubitOp, num_particles, num_spin_orbitals, shift\n",
    "\n",
    "\n",
    "\n",
    "\n"
   ]
  },
  {
   "cell_type": "code",
   "execution_count": 15,
   "metadata": {},
   "outputs": [
    {
     "name": "stdout",
     "output_type": "stream",
     "text": [
      "number of spin orbitals 12\n",
      "Remove list=> [2, 3, 7, 8]\n",
      "freeze_list=> [0, 6]\n",
      "number of particles==> 2\n",
      "Representation: paulis, qubits: 6, size: 118\n",
      "Z2 symmetries:\n",
      "Symmetries:\n",
      "IIIZII\n",
      "ZIIIII\n",
      "Single-Qubit Pauli X:\n",
      "IIIXII\n",
      "XIIIII\n",
      "Cliffords:\n",
      "IIIZII\t(0.7071067811865475+0j)\n",
      "IIIXII\t(0.7071067811865475+0j)\n",
      "\n",
      "ZIIIII\t(0.7071067811865475+0j)\n",
      "XIIIII\t(0.7071067811865475+0j)\n",
      "\n",
      "Qubit index:\n",
      "[2, 5]\n",
      "Tapering values:\n",
      "  - Possible values: [1, 1], [1, -1], [-1, 1], [-1, -1]\n",
      "[False False  True  True]\n"
     ]
    },
    {
     "data": {
      "image/png": "[encoded data removed]",
      "text/plain": [
       "<Figure size 298.592x264.88 with 1 Axes>"
      ]
     },
     "metadata": {},
     "output_type": "display_data"
    },
    {
     "name": "stdout",
     "output_type": "stream",
     "text": [
      "Number of Parameters 8\n",
      "Interatomic Distance: 0.5 VQE Result: -7.039673439126495 Exact Energy: [-7.03973252]\n",
      "number of spin orbitals 12\n",
      "Remove list=> [2, 3, 7, 8]\n",
      "freeze_list=> [0, 6]\n",
      "number of particles==> 2\n",
      "Representation: paulis, qubits: 6, size: 118\n",
      "Z2 symmetries:\n",
      "Symmetries:\n",
      "IIIZII\n",
      "ZIIIII\n",
      "Single-Qubit Pauli X:\n",
      "IIIXII\n",
      "XIIIII\n",
      "Cliffords:\n",
      "IIIZII\t(0.7071067811865475+0j)\n",
      "IIIXII\t(0.7071067811865475+0j)\n",
      "\n",
      "ZIIIII\t(0.7071067811865475+0j)\n",
      "XIIIII\t(0.7071067811865475+0j)\n",
      "\n",
      "Qubit index:\n",
      "[2, 5]\n",
      "Tapering values:\n",
      "  - Possible values: [1, 1], [1, -1], [-1, 1], [-1, -1]\n",
      "[False False  True  True]\n"
     ]
    },
    {
     "data": {
      "image/png": "[encoded data removed]",
      "text/plain": [
       "<Figure size 298.592x264.88 with 1 Axes>"
      ]
     },
     "metadata": {},
     "output_type": "display_data"
    },
    {
     "name": "stdout",
     "output_type": "stream",
     "text": [
      "Number of Parameters 8\n",
      "Interatomic Distance: 0.6 VQE Result: -7.313308878328012 Exact Energy: [-7.31334583]\n",
      "number of spin orbitals 12\n",
      "Remove list=> [2, 3, 7, 8]\n",
      "freeze_list=> [0, 6]\n",
      "number of particles==> 2\n",
      "Representation: paulis, qubits: 6, size: 118\n",
      "Z2 symmetries:\n",
      "Symmetries:\n",
      "IIIZII\n",
      "ZIIIII\n",
      "Single-Qubit Pauli X:\n",
      "IIIXII\n",
      "XIIIII\n",
      "Cliffords:\n",
      "IIIZII\t(0.7071067811865475+0j)\n",
      "IIIXII\t(0.7071067811865475+0j)\n",
      "\n",
      "ZIIIII\t(0.7071067811865475+0j)\n",
      "XIIIII\t(0.7071067811865475+0j)\n",
      "\n",
      "Qubit index:\n",
      "[2, 5]\n",
      "Tapering values:\n",
      "  - Possible values: [1, 1], [1, -1], [-1, 1], [-1, -1]\n",
      "[False False  True  True]\n"
     ]
    },
    {
     "data": {
      "image/png": "[encoded data removed]",
      "text/plain": [
       "<Figure size 298.592x264.88 with 1 Axes>"
      ]
     },
     "metadata": {},
     "output_type": "display_data"
    },
    {
     "name": "stdout",
     "output_type": "stream",
     "text": [
      "Number of Parameters 8\n",
      "Interatomic Distance: 0.7 VQE Result: -7.500887036027975 Exact Energy: [-7.50092209]\n",
      "number of spin orbitals 12\n",
      "Remove list=> [2, 3, 7, 8]\n",
      "freeze_list=> [0, 6]\n",
      "number of particles==> 2\n",
      "Representation: paulis, qubits: 6, size: 118\n",
      "Z2 symmetries:\n",
      "Symmetries:\n",
      "IIIZII\n",
      "ZIIIII\n",
      "Single-Qubit Pauli X:\n",
      "IIIXII\n",
      "XIIIII\n",
      "Cliffords:\n",
      "IIIZII\t(0.7071067811865475+0j)\n",
      "IIIXII\t(0.7071067811865475+0j)\n",
      "\n",
      "ZIIIII\t(0.7071067811865475+0j)\n",
      "XIIIII\t(0.7071067811865475+0j)\n",
      "\n",
      "Qubit index:\n",
      "[2, 5]\n",
      "Tapering values:\n",
      "  - Possible values: [1, 1], [1, -1], [-1, 1], [-1, -1]\n",
      "[False False  True  True]\n"
     ]
    },
    {
     "data": {
      "image/png": "[encoded data removed]",
      "text/plain": [
       "<Figure size 298.592x264.88 with 1 Axes>"
      ]
     },
     "metadata": {},
     "output_type": "display_data"
    },
    {
     "name": "stdout",
     "output_type": "stream",
     "text": [
      "Number of Parameters 8\n",
      "Interatomic Distance: 0.8 VQE Result: -7.630945408791781 Exact Energy: [-7.63097825]\n",
      "number of spin orbitals 12\n",
      "Remove list=> [2, 3, 7, 8]\n",
      "freeze_list=> [0, 6]\n",
      "number of particles==> 2\n",
      "Representation: paulis, qubits: 6, size: 118\n",
      "Z2 symmetries:\n",
      "Symmetries:\n",
      "IIIZII\n",
      "ZIIIII\n",
      "Single-Qubit Pauli X:\n",
      "IIIXII\n",
      "XIIIII\n",
      "Cliffords:\n",
      "IIIZII\t(0.7071067811865475+0j)\n",
      "IIIXII\t(0.7071067811865475+0j)\n",
      "\n",
      "ZIIIII\t(0.7071067811865475+0j)\n",
      "XIIIII\t(0.7071067811865475+0j)\n",
      "\n",
      "Qubit index:\n",
      "[2, 5]\n",
      "Tapering values:\n",
      "  - Possible values: [1, 1], [1, -1], [-1, 1], [-1, -1]\n",
      "[False False  True  True]\n"
     ]
    },
    {
     "data": {
      "image/png": "[encoded data removed]",
      "text/plain": [
       "<Figure size 298.592x264.88 with 1 Axes>"
      ]
     },
     "metadata": {},
     "output_type": "display_data"
    },
    {
     "name": "stdout",
     "output_type": "stream",
     "text": [
      "Number of Parameters 8\n",
      "Interatomic Distance: 0.9 VQE Result: -7.720781098034483 Exact Energy: [-7.72081241]\n",
      "number of spin orbitals 12\n",
      "Remove list=> [2, 3, 7, 8]\n",
      "freeze_list=> [0, 6]\n",
      "number of particles==> 2\n",
      "Representation: paulis, qubits: 6, size: 118\n",
      "Z2 symmetries:\n",
      "Symmetries:\n",
      "IIIZII\n",
      "ZIIIII\n",
      "Single-Qubit Pauli X:\n",
      "IIIXII\n",
      "XIIIII\n",
      "Cliffords:\n",
      "IIIZII\t(0.7071067811865475+0j)\n",
      "IIIXII\t(0.7071067811865475+0j)\n",
      "\n",
      "ZIIIII\t(0.7071067811865475+0j)\n",
      "XIIIII\t(0.7071067811865475+0j)\n",
      "\n",
      "Qubit index:\n",
      "[2, 5]\n",
      "Tapering values:\n",
      "  - Possible values: [1, 1], [1, -1], [-1, 1], [-1, -1]\n",
      "[False False  True  True]\n"
     ]
    },
    {
     "data": {
      "image/png": "[encoded data removed]",
      "text/plain": [
       "<Figure size 298.592x264.88 with 1 Axes>"
      ]
     },
     "metadata": {},
     "output_type": "display_data"
    },
    {
     "name": "stdout",
     "output_type": "stream",
     "text": [
      "Number of Parameters 8\n",
      "Interatomic Distance: 1.0 VQE Result: -7.782211600637968 Exact Energy: [-7.7822424]\n",
      "number of spin orbitals 12\n",
      "Remove list=> [2, 3, 7, 8]\n",
      "freeze_list=> [0, 6]\n",
      "number of particles==> 2\n",
      "Representation: paulis, qubits: 6, size: 118\n",
      "Z2 symmetries:\n",
      "Symmetries:\n",
      "IIIZII\n",
      "ZIIIII\n",
      "Single-Qubit Pauli X:\n",
      "IIIXII\n",
      "XIIIII\n",
      "Cliffords:\n",
      "IIIZII\t(0.7071067811865475+0j)\n",
      "IIIXII\t(0.7071067811865475+0j)\n",
      "\n",
      "ZIIIII\t(0.7071067811865475+0j)\n",
      "XIIIII\t(0.7071067811865475+0j)\n",
      "\n",
      "Qubit index:\n",
      "[2, 5]\n",
      "Tapering values:\n",
      "  - Possible values: [1, 1], [1, -1], [-1, 1], [-1, -1]\n",
      "[False False  True  True]\n"
     ]
    },
    {
     "data": {
      "image/png": "[encoded data removed]",
      "text/plain": [
       "<Figure size 298.592x264.88 with 1 Axes>"
      ]
     },
     "metadata": {},
     "output_type": "display_data"
    },
    {
     "name": "stdout",
     "output_type": "stream",
     "text": [
      "Number of Parameters 8\n",
      "Interatomic Distance: 1.1 VQE Result: -7.823568084997525 Exact Energy: [-7.82359928]\n",
      "number of spin orbitals 12\n",
      "Remove list=> [2, 3, 7, 8]\n",
      "freeze_list=> [0, 6]\n",
      "number of particles==> 2\n",
      "Representation: paulis, qubits: 6, size: 118\n",
      "Z2 symmetries:\n",
      "Symmetries:\n",
      "IIIZII\n",
      "ZIIIII\n",
      "Single-Qubit Pauli X:\n",
      "IIIXII\n",
      "XIIIII\n",
      "Cliffords:\n",
      "IIIZII\t(0.7071067811865475+0j)\n",
      "IIIXII\t(0.7071067811865475+0j)\n",
      "\n",
      "ZIIIII\t(0.7071067811865475+0j)\n",
      "XIIIII\t(0.7071067811865475+0j)\n",
      "\n",
      "Qubit index:\n",
      "[2, 5]\n",
      "Tapering values:\n",
      "  - Possible values: [1, 1], [1, -1], [-1, 1], [-1, -1]\n",
      "[False False  True  True]\n"
     ]
    },
    {
     "data": {
      "image/png": "[encoded data removed]",
      "text/plain": [
       "<Figure size 298.592x264.88 with 1 Axes>"
      ]
     },
     "metadata": {},
     "output_type": "display_data"
    },
    {
     "name": "stdout",
     "output_type": "stream",
     "text": [
      "Number of Parameters 8\n",
      "Interatomic Distance: 1.2 VQE Result: -7.850666130879816 Exact Energy: [-7.85069838]\n",
      "number of spin orbitals 12\n",
      "Remove list=> [2, 3, 7, 8]\n",
      "freeze_list=> [0, 6]\n",
      "number of particles==> 2\n",
      "Representation: paulis, qubits: 6, size: 118\n",
      "Z2 symmetries:\n",
      "Symmetries:\n",
      "IIIZII\n",
      "ZIIIII\n",
      "Single-Qubit Pauli X:\n",
      "IIIXII\n",
      "XIIIII\n",
      "Cliffords:\n",
      "IIIZII\t(0.7071067811865475+0j)\n",
      "IIIXII\t(0.7071067811865475+0j)\n",
      "\n",
      "ZIIIII\t(0.7071067811865475+0j)\n",
      "XIIIII\t(0.7071067811865475+0j)\n",
      "\n",
      "Qubit index:\n",
      "[2, 5]\n",
      "Tapering values:\n",
      "  - Possible values: [1, 1], [1, -1], [-1, 1], [-1, -1]\n",
      "[False False  True  True]\n"
     ]
    },
    {
     "data": {
      "image/png": "[encoded data removed]",
      "text/plain": [
       "<Figure size 298.592x264.88 with 1 Axes>"
      ]
     },
     "metadata": {},
     "output_type": "display_data"
    },
    {
     "name": "stdout",
     "output_type": "stream",
     "text": [
      "Number of Parameters 8\n",
      "Interatomic Distance: 1.3 VQE Result: -7.867529586369839 Exact Energy: [-7.86756329]\n",
      "number of spin orbitals 12\n",
      "Remove list=> [2, 3, 7, 8]\n",
      "freeze_list=> [0, 6]\n",
      "number of particles==> 2\n",
      "Representation: paulis, qubits: 6, size: 118\n",
      "Z2 symmetries:\n",
      "Symmetries:\n",
      "IIIZII\n",
      "ZIIIII\n",
      "Single-Qubit Pauli X:\n",
      "IIIXII\n",
      "XIIIII\n",
      "Cliffords:\n",
      "IIIZII\t(0.7071067811865475+0j)\n",
      "IIIXII\t(0.7071067811865475+0j)\n",
      "\n",
      "ZIIIII\t(0.7071067811865475+0j)\n",
      "XIIIII\t(0.7071067811865475+0j)\n",
      "\n",
      "Qubit index:\n",
      "[2, 5]\n",
      "Tapering values:\n",
      "  - Possible values: [1, 1], [1, -1], [-1, 1], [-1, -1]\n",
      "[False False  True  True]\n"
     ]
    },
    {
     "data": {
      "image/png": "[encoded data removed]",
      "text/plain": [
       "<Figure size 298.592x264.88 with 1 Axes>"
      ]
     },
     "metadata": {},
     "output_type": "display_data"
    },
    {
     "name": "stdout",
     "output_type": "stream",
     "text": [
      "Number of Parameters 8\n",
      "Interatomic Distance: 1.4 VQE Result: -7.87696625052147 Exact Energy: [-7.87700149]\n",
      "number of spin orbitals 12\n",
      "Remove list=> [2, 3, 7, 8]\n",
      "freeze_list=> [0, 6]\n",
      "number of particles==> 2\n",
      "Representation: paulis, qubits: 6, size: 118\n",
      "Z2 symmetries:\n",
      "Symmetries:\n",
      "IIIZII\n",
      "ZIIIII\n",
      "Single-Qubit Pauli X:\n",
      "IIIXII\n",
      "XIIIII\n",
      "Cliffords:\n",
      "IIIZII\t(0.7071067811865475+0j)\n",
      "IIIXII\t(0.7071067811865475+0j)\n",
      "\n",
      "ZIIIII\t(0.7071067811865475+0j)\n",
      "XIIIII\t(0.7071067811865475+0j)\n",
      "\n",
      "Qubit index:\n",
      "[2, 5]\n",
      "Tapering values:\n",
      "  - Possible values: [1, 1], [1, -1], [-1, 1], [-1, -1]\n",
      "[False False  True  True]\n"
     ]
    },
    {
     "data": {
      "image/png": "[encoded data removed]",
      "text/plain": [
       "<Figure size 298.592x264.88 with 1 Axes>"
      ]
     },
     "metadata": {},
     "output_type": "display_data"
    },
    {
     "name": "stdout",
     "output_type": "stream",
     "text": [
      "Number of Parameters 8\n",
      "Interatomic Distance: 1.5 VQE Result: -7.880979502349552 Exact Energy: [-7.88101572]\n",
      "number of spin orbitals 12\n",
      "Remove list=> [2, 3, 7, 8]\n",
      "freeze_list=> [0, 6]\n",
      "number of particles==> 2\n",
      "Representation: paulis, qubits: 6, size: 118\n",
      "Z2 symmetries:\n",
      "Symmetries:\n",
      "IIIZII\n",
      "ZIIIII\n",
      "Single-Qubit Pauli X:\n",
      "IIIXII\n",
      "XIIIII\n",
      "Cliffords:\n",
      "IIIZII\t(0.7071067811865475+0j)\n",
      "IIIXII\t(0.7071067811865475+0j)\n",
      "\n",
      "ZIIIII\t(0.7071067811865475+0j)\n",
      "XIIIII\t(0.7071067811865475+0j)\n",
      "\n",
      "Qubit index:\n",
      "[2, 5]\n",
      "Tapering values:\n",
      "  - Possible values: [1, 1], [1, -1], [-1, 1], [-1, -1]\n",
      "[False False  True  True]\n"
     ]
    },
    {
     "data": {
      "image/png": "[encoded data removed]",
      "text/plain": [
       "<Figure size 298.592x264.88 with 1 Axes>"
      ]
     },
     "metadata": {},
     "output_type": "display_data"
    },
    {
     "name": "stdout",
     "output_type": "stream",
     "text": [
      "Number of Parameters 8\n",
      "Interatomic Distance: 1.6 VQE Result: -7.881036615597765 Exact Energy: [-7.88107204]\n",
      "number of spin orbitals 12\n",
      "Remove list=> [2, 3, 7, 8]\n",
      "freeze_list=> [0, 6]\n",
      "number of particles==> 2\n",
      "Representation: paulis, qubits: 6, size: 118\n",
      "Z2 symmetries:\n",
      "Symmetries:\n",
      "IIIZII\n",
      "ZIIIII\n",
      "Single-Qubit Pauli X:\n",
      "IIIXII\n",
      "XIIIII\n",
      "Cliffords:\n",
      "IIIZII\t(0.7071067811865475+0j)\n",
      "IIIXII\t(0.7071067811865475+0j)\n",
      "\n",
      "ZIIIII\t(0.7071067811865475+0j)\n",
      "XIIIII\t(0.7071067811865475+0j)\n",
      "\n",
      "Qubit index:\n",
      "[2, 5]\n",
      "Tapering values:\n",
      "  - Possible values: [1, 1], [1, -1], [-1, 1], [-1, -1]\n",
      "[False False  True  True]\n"
     ]
    },
    {
     "data": {
      "image/png": "[encoded data removed]",
      "text/plain": [
       "<Figure size 298.592x264.88 with 1 Axes>"
      ]
     },
     "metadata": {},
     "output_type": "display_data"
    },
    {
     "name": "stdout",
     "output_type": "stream",
     "text": [
      "Number of Parameters 8\n",
      "Interatomic Distance: 1.7 VQE Result: -7.878236970762594 Exact Energy: [-7.87826817]\n",
      "number of spin orbitals 12\n",
      "Remove list=> [2, 3, 7, 8]\n",
      "freeze_list=> [0, 6]\n",
      "number of particles==> 2\n",
      "Representation: paulis, qubits: 6, size: 118\n",
      "Z2 symmetries:\n",
      "Symmetries:\n",
      "IIIZII\n",
      "ZIIIII\n",
      "Single-Qubit Pauli X:\n",
      "IIIXII\n",
      "XIIIII\n",
      "Cliffords:\n",
      "IIIZII\t(0.7071067811865475+0j)\n",
      "IIIXII\t(0.7071067811865475+0j)\n",
      "\n",
      "ZIIIII\t(0.7071067811865475+0j)\n",
      "XIIIII\t(0.7071067811865475+0j)\n",
      "\n",
      "Qubit index:\n",
      "[2, 5]\n",
      "Tapering values:\n",
      "  - Possible values: [1, 1], [1, -1], [-1, 1], [-1, -1]\n",
      "[False False  True  True]\n"
     ]
    },
    {
     "data": {
      "image/png": "[encoded data removed]",
      "text/plain": [
       "<Figure size 298.592x264.88 with 1 Axes>"
      ]
     },
     "metadata": {},
     "output_type": "display_data"
    },
    {
     "name": "stdout",
     "output_type": "stream",
     "text": [
      "Number of Parameters 8\n",
      "Interatomic Distance: 1.8 VQE Result: -7.873345233671697 Exact Energy: [-7.87344029]\n",
      "number of spin orbitals 12\n",
      "Remove list=> [2, 3, 7, 8]\n",
      "freeze_list=> [0, 6]\n",
      "number of particles==> 2\n",
      "Representation: paulis, qubits: 6, size: 118\n",
      "Z2 symmetries:\n",
      "Symmetries:\n",
      "IIIZII\n",
      "ZIIIII\n",
      "Single-Qubit Pauli X:\n",
      "IIIXII\n",
      "XIIIII\n",
      "Cliffords:\n",
      "IIIZII\t(0.7071067811865475+0j)\n",
      "IIIXII\t(0.7071067811865475+0j)\n",
      "\n",
      "ZIIIII\t(0.7071067811865475+0j)\n",
      "XIIIII\t(0.7071067811865475+0j)\n",
      "\n",
      "Qubit index:\n",
      "[2, 5]\n",
      "Tapering values:\n",
      "  - Possible values: [1, 1], [1, -1], [-1, 1], [-1, -1]\n",
      "[False False  True  True]\n"
     ]
    },
    {
     "data": {
      "image/png": "[encoded data removed]",
      "text/plain": [
       "<Figure size 298.592x264.88 with 1 Axes>"
      ]
     },
     "metadata": {},
     "output_type": "display_data"
    },
    {
     "name": "stdout",
     "output_type": "stream",
     "text": [
      "Number of Parameters 8\n",
      "Interatomic Distance: 1.9 VQE Result: -7.867137512401303 Exact Energy: [-7.86723396]\n",
      "number of spin orbitals 12\n",
      "Remove list=> [2, 3, 7, 8]\n",
      "freeze_list=> [0, 6]\n",
      "number of particles==> 2\n",
      "Representation: paulis, qubits: 6, size: 118\n",
      "Z2 symmetries:\n",
      "Symmetries:\n",
      "IIIZII\n",
      "ZIIIII\n",
      "Single-Qubit Pauli X:\n",
      "IIIXII\n",
      "XIIIII\n",
      "Cliffords:\n",
      "IIIZII\t(0.7071067811865475+0j)\n",
      "IIIXII\t(0.7071067811865475+0j)\n",
      "\n",
      "ZIIIII\t(0.7071067811865475+0j)\n",
      "XIIIII\t(0.7071067811865475+0j)\n",
      "\n",
      "Qubit index:\n",
      "[2, 5]\n",
      "Tapering values:\n",
      "  - Possible values: [1, 1], [1, -1], [-1, 1], [-1, -1]\n",
      "[False False  True  True]\n"
     ]
    },
    {
     "data": {
      "image/png": "[encoded data removed]",
      "text/plain": [
       "<Figure size 298.592x264.88 with 1 Axes>"
      ]
     },
     "metadata": {},
     "output_type": "display_data"
    },
    {
     "name": "stdout",
     "output_type": "stream",
     "text": [
      "Number of Parameters 8\n",
      "Interatomic Distance: 2.0 VQE Result: -7.8600683723274365 Exact Energy: [-7.86015321]\n",
      "number of spin orbitals 12\n",
      "Remove list=> [2, 3, 7, 8]\n",
      "freeze_list=> [0, 6]\n",
      "number of particles==> 2\n",
      "Representation: paulis, qubits: 6, size: 118\n",
      "Z2 symmetries:\n",
      "Symmetries:\n",
      "IIIZII\n",
      "ZIIIII\n",
      "Single-Qubit Pauli X:\n",
      "IIIXII\n",
      "XIIIII\n",
      "Cliffords:\n",
      "IIIZII\t(0.7071067811865475+0j)\n",
      "IIIXII\t(0.7071067811865475+0j)\n",
      "\n",
      "ZIIIII\t(0.7071067811865475+0j)\n",
      "XIIIII\t(0.7071067811865475+0j)\n",
      "\n",
      "Qubit index:\n",
      "[2, 5]\n",
      "Tapering values:\n",
      "  - Possible values: [1, 1], [1, -1], [-1, 1], [-1, -1]\n",
      "[False False  True  True]\n"
     ]
    },
    {
     "data": {
      "image/png": "[encoded data removed]",
      "text/plain": [
       "<Figure size 298.592x264.88 with 1 Axes>"
      ]
     },
     "metadata": {},
     "output_type": "display_data"
    },
    {
     "name": "stdout",
     "output_type": "stream",
     "text": [
      "Number of Parameters 8\n",
      "Interatomic Distance: 2.1 VQE Result: -7.852535256464017 Exact Energy: [-7.85259583]\n",
      "number of spin orbitals 12\n",
      "Remove list=> [2, 3, 7, 8]\n",
      "freeze_list=> [0, 6]\n",
      "number of particles==> 2\n",
      "Representation: paulis, qubits: 6, size: 118\n",
      "Z2 symmetries:\n",
      "Symmetries:\n",
      "IIIZII\n",
      "ZIIIII\n",
      "Single-Qubit Pauli X:\n",
      "IIIXII\n",
      "XIIIII\n",
      "Cliffords:\n",
      "IIIZII\t(0.7071067811865475+0j)\n",
      "IIIXII\t(0.7071067811865475+0j)\n",
      "\n",
      "ZIIIII\t(0.7071067811865475+0j)\n",
      "XIIIII\t(0.7071067811865475+0j)\n",
      "\n",
      "Qubit index:\n",
      "[2, 5]\n",
      "Tapering values:\n",
      "  - Possible values: [1, 1], [1, -1], [-1, 1], [-1, -1]\n",
      "[False False  True  True]\n"
     ]
    },
    {
     "data": {
      "image/png": "[encoded data removed]",
      "text/plain": [
       "<Figure size 298.592x264.88 with 1 Axes>"
      ]
     },
     "metadata": {},
     "output_type": "display_data"
    },
    {
     "name": "stdout",
     "output_type": "stream",
     "text": [
      "Number of Parameters 8\n",
      "Interatomic Distance: 2.2 VQE Result: -7.844839387871353 Exact Energy: [-7.84487909]\n",
      "number of spin orbitals 12\n",
      "Remove list=> [2, 3, 7, 8]\n",
      "freeze_list=> [0, 6]\n",
      "number of particles==> 2\n",
      "Representation: paulis, qubits: 6, size: 118\n",
      "Z2 symmetries:\n",
      "Symmetries:\n",
      "IIIZII\n",
      "ZIIIII\n",
      "Single-Qubit Pauli X:\n",
      "IIIXII\n",
      "XIIIII\n",
      "Cliffords:\n",
      "IIIZII\t(0.7071067811865475+0j)\n",
      "IIIXII\t(0.7071067811865475+0j)\n",
      "\n",
      "ZIIIII\t(0.7071067811865475+0j)\n",
      "XIIIII\t(0.7071067811865475+0j)\n",
      "\n",
      "Qubit index:\n",
      "[2, 5]\n",
      "Tapering values:\n",
      "  - Possible values: [1, 1], [1, -1], [-1, 1], [-1, -1]\n",
      "[False False  True  True]\n"
     ]
    },
    {
     "data": {
      "image/png": "[encoded data removed]",
      "text/plain": [
       "<Figure size 298.592x264.88 with 1 Axes>"
      ]
     },
     "metadata": {},
     "output_type": "display_data"
    },
    {
     "name": "stdout",
     "output_type": "stream",
     "text": [
      "Number of Parameters 8\n",
      "Interatomic Distance: 2.3 VQE Result: -7.837212715811175 Exact Energy: [-7.83725797]\n",
      "number of spin orbitals 12\n",
      "Remove list=> [2, 3, 7, 8]\n",
      "freeze_list=> [0, 6]\n",
      "number of particles==> 2\n",
      "Representation: paulis, qubits: 6, size: 118\n",
      "Z2 symmetries:\n",
      "Symmetries:\n",
      "IIIZII\n",
      "ZIIIII\n",
      "Single-Qubit Pauli X:\n",
      "IIIXII\n",
      "XIIIII\n",
      "Cliffords:\n",
      "IIIZII\t(0.7071067811865475+0j)\n",
      "IIIXII\t(0.7071067811865475+0j)\n",
      "\n",
      "ZIIIII\t(0.7071067811865475+0j)\n",
      "XIIIII\t(0.7071067811865475+0j)\n",
      "\n",
      "Qubit index:\n",
      "[2, 5]\n",
      "Tapering values:\n",
      "  - Possible values: [1, 1], [1, -1], [-1, 1], [-1, -1]\n",
      "[False False  True  True]\n"
     ]
    },
    {
     "data": {
      "image/png": "[encoded data removed]",
      "text/plain": [
       "<Figure size 298.592x264.88 with 1 Axes>"
      ]
     },
     "metadata": {},
     "output_type": "display_data"
    },
    {
     "name": "stdout",
     "output_type": "stream",
     "text": [
      "Number of Parameters 8\n",
      "Interatomic Distance: 2.4 VQE Result: -7.829853252523495 Exact Energy: [-7.829937]\n",
      "number of spin orbitals 12\n",
      "Remove list=> [2, 3, 7, 8]\n",
      "freeze_list=> [0, 6]\n",
      "number of particles==> 2\n",
      "Representation: paulis, qubits: 6, size: 118\n",
      "Z2 symmetries:\n",
      "Symmetries:\n",
      "IIIZII\n",
      "ZIIIII\n",
      "Single-Qubit Pauli X:\n",
      "IIIXII\n",
      "XIIIII\n",
      "Cliffords:\n",
      "IIIZII\t(0.7071067811865475+0j)\n",
      "IIIXII\t(0.7071067811865475+0j)\n",
      "\n",
      "ZIIIII\t(0.7071067811865475+0j)\n",
      "XIIIII\t(0.7071067811865475+0j)\n",
      "\n",
      "Qubit index:\n",
      "[2, 5]\n",
      "Tapering values:\n",
      "  - Possible values: [1, 1], [1, -1], [-1, 1], [-1, -1]\n",
      "[False False  True  True]\n"
     ]
    },
    {
     "data": {
      "image/png": "[encoded data removed]",
      "text/plain": [
       "<Figure size 298.592x264.88 with 1 Axes>"
      ]
     },
     "metadata": {},
     "output_type": "display_data"
    },
    {
     "name": "stdout",
     "output_type": "stream",
     "text": [
      "Number of Parameters 8\n",
      "Interatomic Distance: 2.5 VQE Result: -7.822930312469663 Exact Energy: [-7.82307664]\n",
      "number of spin orbitals 12\n",
      "Remove list=> [2, 3, 7, 8]\n",
      "freeze_list=> [0, 6]\n",
      "number of particles==> 2\n",
      "Representation: paulis, qubits: 6, size: 118\n",
      "Z2 symmetries:\n",
      "Symmetries:\n",
      "IIIZII\n",
      "ZIIIII\n",
      "Single-Qubit Pauli X:\n",
      "IIIXII\n",
      "XIIIII\n",
      "Cliffords:\n",
      "IIIZII\t(0.7071067811865475+0j)\n",
      "IIIXII\t(0.7071067811865475+0j)\n",
      "\n",
      "ZIIIII\t(0.7071067811865475+0j)\n",
      "XIIIII\t(0.7071067811865475+0j)\n",
      "\n",
      "Qubit index:\n",
      "[2, 5]\n",
      "Tapering values:\n",
      "  - Possible values: [1, 1], [1, -1], [-1, 1], [-1, -1]\n",
      "[False False  True  True]\n"
     ]
    },
    {
     "data": {
      "image/png": "[encoded data removed]",
      "text/plain": [
       "<Figure size 298.592x264.88 with 1 Axes>"
      ]
     },
     "metadata": {},
     "output_type": "display_data"
    },
    {
     "name": "stdout",
     "output_type": "stream",
     "text": [
      "Number of Parameters 8\n",
      "Interatomic Distance: 2.6 VQE Result: -7.816588408309776 Exact Energy: [-7.81679515]\n",
      "number of spin orbitals 12\n",
      "Remove list=> [2, 3, 7, 8]\n",
      "freeze_list=> [0, 6]\n",
      "number of particles==> 2\n",
      "Representation: paulis, qubits: 6, size: 118\n",
      "Z2 symmetries:\n",
      "Symmetries:\n",
      "IIIZII\n",
      "ZIIIII\n",
      "Single-Qubit Pauli X:\n",
      "IIIXII\n",
      "XIIIII\n",
      "Cliffords:\n",
      "IIIZII\t(0.7071067811865475+0j)\n",
      "IIIXII\t(0.7071067811865475+0j)\n",
      "\n",
      "ZIIIII\t(0.7071067811865475+0j)\n",
      "XIIIII\t(0.7071067811865475+0j)\n",
      "\n",
      "Qubit index:\n",
      "[2, 5]\n",
      "Tapering values:\n",
      "  - Possible values: [1, 1], [1, -1], [-1, 1], [-1, -1]\n",
      "[False False  True  True]\n"
     ]
    },
    {
     "data": {
      "image/png": "[encoded data removed]",
      "text/plain": [
       "<Figure size 298.592x264.88 with 1 Axes>"
      ]
     },
     "metadata": {},
     "output_type": "display_data"
    },
    {
     "name": "stdout",
     "output_type": "stream",
     "text": [
      "Number of Parameters 8\n",
      "Interatomic Distance: 2.7 VQE Result: -7.810934374278975 Exact Energy: [-7.81116828]\n",
      "number of spin orbitals 12\n",
      "Remove list=> [2, 3, 7, 8]\n",
      "freeze_list=> [0, 6]\n",
      "number of particles==> 2\n",
      "Representation: paulis, qubits: 6, size: 118\n",
      "Z2 symmetries:\n",
      "Symmetries:\n",
      "IIIZII\n",
      "ZIIIII\n",
      "Single-Qubit Pauli X:\n",
      "IIIXII\n",
      "XIIIII\n",
      "Cliffords:\n",
      "IIIZII\t(0.7071067811865475+0j)\n",
      "IIIXII\t(0.7071067811865475+0j)\n",
      "\n",
      "ZIIIII\t(0.7071067811865475+0j)\n",
      "XIIIII\t(0.7071067811865475+0j)\n",
      "\n",
      "Qubit index:\n",
      "[2, 5]\n",
      "Tapering values:\n",
      "  - Possible values: [1, 1], [1, -1], [-1, 1], [-1, -1]\n",
      "[False False  True  True]\n"
     ]
    },
    {
     "data": {
      "image/png": "[encoded data removed]",
      "text/plain": [
       "<Figure size 298.592x264.88 with 1 Axes>"
      ]
     },
     "metadata": {},
     "output_type": "display_data"
    },
    {
     "name": "stdout",
     "output_type": "stream",
     "text": [
      "Number of Parameters 8\n",
      "Interatomic Distance: 2.8 VQE Result: -7.806014869936971 Exact Energy: [-7.80622956]\n",
      "number of spin orbitals 12\n",
      "Remove list=> [2, 3, 7, 8]\n",
      "freeze_list=> [0, 6]\n",
      "number of particles==> 2\n",
      "Representation: paulis, qubits: 6, size: 118\n",
      "Z2 symmetries:\n",
      "Symmetries:\n",
      "IIIZII\n",
      "ZIIIII\n",
      "Single-Qubit Pauli X:\n",
      "IIIXII\n",
      "XIIIII\n",
      "Cliffords:\n",
      "IIIZII\t(0.7071067811865475+0j)\n",
      "IIIXII\t(0.7071067811865475+0j)\n",
      "\n",
      "ZIIIII\t(0.7071067811865475+0j)\n",
      "XIIIII\t(0.7071067811865475+0j)\n",
      "\n",
      "Qubit index:\n",
      "[2, 5]\n",
      "Tapering values:\n",
      "  - Possible values: [1, 1], [1, -1], [-1, 1], [-1, -1]\n",
      "[False False  True  True]\n"
     ]
    },
    {
     "data": {
      "image/png": "[encoded data removed]",
      "text/plain": [
       "<Figure size 298.592x264.88 with 1 Axes>"
      ]
     },
     "metadata": {},
     "output_type": "display_data"
    },
    {
     "name": "stdout",
     "output_type": "stream",
     "text": [
      "Number of Parameters 8\n",
      "Interatomic Distance: 2.9 VQE Result: -7.801736620358109 Exact Energy: [-7.8019736]\n",
      "number of spin orbitals 12\n",
      "Remove list=> [2, 3, 7, 8]\n",
      "freeze_list=> [0, 6]\n",
      "number of particles==> 2\n",
      "Representation: paulis, qubits: 6, size: 118\n",
      "Z2 symmetries:\n",
      "Symmetries:\n",
      "IIIZII\n",
      "ZIIIII\n",
      "Single-Qubit Pauli X:\n",
      "IIIXII\n",
      "XIIIII\n",
      "Cliffords:\n",
      "IIIZII\t(0.7071067811865475+0j)\n",
      "IIIXII\t(0.7071067811865475+0j)\n",
      "\n",
      "ZIIIII\t(0.7071067811865475+0j)\n",
      "XIIIII\t(0.7071067811865475+0j)\n",
      "\n",
      "Qubit index:\n",
      "[2, 5]\n",
      "Tapering values:\n",
      "  - Possible values: [1, 1], [1, -1], [-1, 1], [-1, -1]\n",
      "[False False  True  True]\n"
     ]
    },
    {
     "data": {
      "image/png": "[encoded data removed]",
      "text/plain": [
       "<Figure size 298.592x264.88 with 1 Axes>"
      ]
     },
     "metadata": {},
     "output_type": "display_data"
    },
    {
     "name": "stdout",
     "output_type": "stream",
     "text": [
      "Number of Parameters 8\n",
      "Interatomic Distance: 3.0 VQE Result: -7.798083535616146 Exact Energy: [-7.79836343]\n",
      "number of spin orbitals 12\n",
      "Remove list=> [2, 3, 7, 8]\n",
      "freeze_list=> [0, 6]\n",
      "number of particles==> 2\n",
      "Representation: paulis, qubits: 6, size: 118\n",
      "Z2 symmetries:\n",
      "Symmetries:\n",
      "IIIZII\n",
      "ZIIIII\n",
      "Single-Qubit Pauli X:\n",
      "IIIXII\n",
      "XIIIII\n",
      "Cliffords:\n",
      "IIIZII\t(0.7071067811865475+0j)\n",
      "IIIXII\t(0.7071067811865475+0j)\n",
      "\n",
      "ZIIIII\t(0.7071067811865475+0j)\n",
      "XIIIII\t(0.7071067811865475+0j)\n",
      "\n",
      "Qubit index:\n",
      "[2, 5]\n",
      "Tapering values:\n",
      "  - Possible values: [1, 1], [1, -1], [-1, 1], [-1, -1]\n",
      "[False False  True  True]\n"
     ]
    },
    {
     "data": {
      "image/png": "[encoded data removed]",
      "text/plain": [
       "<Figure size 298.592x264.88 with 1 Axes>"
      ]
     },
     "metadata": {},
     "output_type": "display_data"
    },
    {
     "name": "stdout",
     "output_type": "stream",
     "text": [
      "Number of Parameters 8\n",
      "Interatomic Distance: 3.1 VQE Result: -7.795060172761516 Exact Energy: [-7.79534045]\n",
      "number of spin orbitals 12\n",
      "Remove list=> [2, 3, 7, 8]\n",
      "freeze_list=> [0, 6]\n",
      "number of particles==> 2\n",
      "Representation: paulis, qubits: 6, size: 118\n",
      "Z2 symmetries:\n",
      "Symmetries:\n",
      "IIIZII\n",
      "ZIIIII\n",
      "Single-Qubit Pauli X:\n",
      "IIIXII\n",
      "XIIIII\n",
      "Cliffords:\n",
      "IIIZII\t(0.7071067811865475+0j)\n",
      "IIIXII\t(0.7071067811865475+0j)\n",
      "\n",
      "ZIIIII\t(0.7071067811865475+0j)\n",
      "XIIIII\t(0.7071067811865475+0j)\n",
      "\n",
      "Qubit index:\n",
      "[2, 5]\n",
      "Tapering values:\n",
      "  - Possible values: [1, 1], [1, -1], [-1, 1], [-1, -1]\n",
      "[False False  True  True]\n"
     ]
    },
    {
     "data": {
      "image/png": "[encoded data removed]",
      "text/plain": [
       "<Figure size 298.592x264.88 with 1 Axes>"
      ]
     },
     "metadata": {},
     "output_type": "display_data"
    },
    {
     "name": "stdout",
     "output_type": "stream",
     "text": [
      "Number of Parameters 8\n",
      "Interatomic Distance: 3.2 VQE Result: -7.792367399914658 Exact Energy: [-7.79283481]\n",
      "number of spin orbitals 12\n",
      "Remove list=> [2, 3, 7, 8]\n",
      "freeze_list=> [0, 6]\n",
      "number of particles==> 2\n",
      "Representation: paulis, qubits: 6, size: 118\n",
      "Z2 symmetries:\n",
      "Symmetries:\n",
      "IIIZII\n",
      "ZIIIII\n",
      "Single-Qubit Pauli X:\n",
      "IIIXII\n",
      "XIIIII\n",
      "Cliffords:\n",
      "IIIZII\t(0.7071067811865475+0j)\n",
      "IIIXII\t(0.7071067811865475+0j)\n",
      "\n",
      "ZIIIII\t(0.7071067811865475+0j)\n",
      "XIIIII\t(0.7071067811865475+0j)\n",
      "\n",
      "Qubit index:\n",
      "[2, 5]\n",
      "Tapering values:\n",
      "  - Possible values: [1, 1], [1, -1], [-1, 1], [-1, -1]\n",
      "[False False  True  True]\n"
     ]
    },
    {
     "data": {
      "image/png": "[encoded data removed]",
      "text/plain": [
       "<Figure size 298.592x264.88 with 1 Axes>"
      ]
     },
     "metadata": {},
     "output_type": "display_data"
    },
    {
     "name": "stdout",
     "output_type": "stream",
     "text": [
      "Number of Parameters 8\n",
      "Interatomic Distance: 3.3 VQE Result: -7.7896861037457565 Exact Energy: [-7.79077401]\n",
      "number of spin orbitals 12\n",
      "Remove list=> [2, 3, 7, 8]\n",
      "freeze_list=> [0, 6]\n",
      "number of particles==> 2\n",
      "Representation: paulis, qubits: 6, size: 118\n",
      "Z2 symmetries:\n",
      "Symmetries:\n",
      "IIIZII\n",
      "ZIIIII\n",
      "Single-Qubit Pauli X:\n",
      "IIIXII\n",
      "XIIIII\n",
      "Cliffords:\n",
      "IIIZII\t(0.7071067811865475+0j)\n",
      "IIIXII\t(0.7071067811865475+0j)\n",
      "\n",
      "ZIIIII\t(0.7071067811865475+0j)\n",
      "XIIIII\t(0.7071067811865475+0j)\n",
      "\n",
      "Qubit index:\n",
      "[2, 5]\n",
      "Tapering values:\n",
      "  - Possible values: [1, 1], [1, -1], [-1, 1], [-1, -1]\n",
      "[False False  True  True]\n"
     ]
    },
    {
     "data": {
      "image/png": "[encoded data removed]",
      "text/plain": [
       "<Figure size 298.592x264.88 with 1 Axes>"
      ]
     },
     "metadata": {},
     "output_type": "display_data"
    },
    {
     "name": "stdout",
     "output_type": "stream",
     "text": [
      "Number of Parameters 8\n",
      "Interatomic Distance: 3.4 VQE Result: -7.787375464523038 Exact Energy: [-7.7890889]\n",
      "number of spin orbitals 12\n",
      "Remove list=> [2, 3, 7, 8]\n",
      "freeze_list=> [0, 6]\n",
      "number of particles==> 2\n",
      "Representation: paulis, qubits: 6, size: 118\n",
      "Z2 symmetries:\n",
      "Symmetries:\n",
      "IIIZII\n",
      "ZIIIII\n",
      "Single-Qubit Pauli X:\n",
      "IIIXII\n",
      "XIIIII\n",
      "Cliffords:\n",
      "IIIZII\t(0.7071067811865475+0j)\n",
      "IIIXII\t(0.7071067811865475+0j)\n",
      "\n",
      "ZIIIII\t(0.7071067811865475+0j)\n",
      "XIIIII\t(0.7071067811865475+0j)\n",
      "\n",
      "Qubit index:\n",
      "[2, 5]\n",
      "Tapering values:\n",
      "  - Possible values: [1, 1], [1, -1], [-1, 1], [-1, -1]\n",
      "[False False  True  True]\n"
     ]
    },
    {
     "data": {
      "image/png": "[encoded data removed]",
      "text/plain": [
       "<Figure size 298.592x264.88 with 1 Axes>"
      ]
     },
     "metadata": {},
     "output_type": "display_data"
    },
    {
     "name": "stdout",
     "output_type": "stream",
     "text": [
      "Number of Parameters 8\n",
      "Interatomic Distance: 3.5 VQE Result: -7.785627429382009 Exact Energy: [-7.78771697]\n",
      "number of spin orbitals 12\n",
      "Remove list=> [2, 3, 7, 8]\n",
      "freeze_list=> [0, 6]\n",
      "number of particles==> 2\n",
      "Representation: paulis, qubits: 6, size: 118\n",
      "Z2 symmetries:\n",
      "Symmetries:\n",
      "IIIZII\n",
      "ZIIIII\n",
      "Single-Qubit Pauli X:\n",
      "IIIXII\n",
      "XIIIII\n",
      "Cliffords:\n",
      "IIIZII\t(0.7071067811865475+0j)\n",
      "IIIXII\t(0.7071067811865475+0j)\n",
      "\n",
      "ZIIIII\t(0.7071067811865475+0j)\n",
      "XIIIII\t(0.7071067811865475+0j)\n",
      "\n",
      "Qubit index:\n",
      "[2, 5]\n",
      "Tapering values:\n",
      "  - Possible values: [1, 1], [1, -1], [-1, 1], [-1, -1]\n",
      "[False False  True  True]\n"
     ]
    },
    {
     "data": {
      "image/png": "[encoded data removed]",
      "text/plain": [
       "<Figure size 298.592x264.88 with 1 Axes>"
      ]
     },
     "metadata": {},
     "output_type": "display_data"
    },
    {
     "name": "stdout",
     "output_type": "stream",
     "text": [
      "Number of Parameters 8\n",
      "Interatomic Distance: 3.6 VQE Result: -7.784375141534188 Exact Energy: [-7.78660376]\n",
      "number of spin orbitals 12\n",
      "Remove list=> [2, 3, 7, 8]\n",
      "freeze_list=> [0, 6]\n",
      "number of particles==> 2\n",
      "Representation: paulis, qubits: 6, size: 118\n",
      "Z2 symmetries:\n",
      "Symmetries:\n",
      "IIIZII\n",
      "ZIIIII\n",
      "Single-Qubit Pauli X:\n",
      "IIIXII\n",
      "XIIIII\n",
      "Cliffords:\n",
      "IIIZII\t(0.7071067811865475+0j)\n",
      "IIIXII\t(0.7071067811865475+0j)\n",
      "\n",
      "ZIIIII\t(0.7071067811865475+0j)\n",
      "XIIIII\t(0.7071067811865475+0j)\n",
      "\n",
      "Qubit index:\n",
      "[2, 5]\n",
      "Tapering values:\n",
      "  - Possible values: [1, 1], [1, -1], [-1, 1], [-1, -1]\n",
      "[False False  True  True]\n"
     ]
    },
    {
     "data": {
      "image/png": "[encoded data removed]",
      "text/plain": [
       "<Figure size 298.592x264.88 with 1 Axes>"
      ]
     },
     "metadata": {},
     "output_type": "display_data"
    },
    {
     "name": "stdout",
     "output_type": "stream",
     "text": [
      "Number of Parameters 8\n",
      "Interatomic Distance: 3.7 VQE Result: -7.783495992431577 Exact Energy: [-7.78570291]\n",
      "number of spin orbitals 12\n",
      "Remove list=> [2, 3, 7, 8]\n",
      "freeze_list=> [0, 6]\n",
      "number of particles==> 2\n",
      "Representation: paulis, qubits: 6, size: 118\n",
      "Z2 symmetries:\n",
      "Symmetries:\n",
      "IIIZII\n",
      "ZIIIII\n",
      "Single-Qubit Pauli X:\n",
      "IIIXII\n",
      "XIIIII\n",
      "Cliffords:\n",
      "IIIZII\t(0.7071067811865475+0j)\n",
      "IIIXII\t(0.7071067811865475+0j)\n",
      "\n",
      "ZIIIII\t(0.7071067811865475+0j)\n",
      "XIIIII\t(0.7071067811865475+0j)\n",
      "\n",
      "Qubit index:\n",
      "[2, 5]\n",
      "Tapering values:\n",
      "  - Possible values: [1, 1], [1, -1], [-1, 1], [-1, -1]\n",
      "[False False  True  True]\n"
     ]
    },
    {
     "data": {
      "image/png": "[encoded data removed]",
      "text/plain": [
       "<Figure size 298.592x264.88 with 1 Axes>"
      ]
     },
     "metadata": {},
     "output_type": "display_data"
    },
    {
     "name": "stdout",
     "output_type": "stream",
     "text": [
      "Number of Parameters 8\n",
      "Interatomic Distance: 3.8 VQE Result: -7.782885682995436 Exact Energy: [-7.78497559]\n",
      "number of spin orbitals 12\n",
      "Remove list=> [2, 3, 7, 8]\n",
      "freeze_list=> [0, 6]\n",
      "number of particles==> 2\n",
      "Representation: paulis, qubits: 6, size: 118\n",
      "Z2 symmetries:\n",
      "Symmetries:\n",
      "IIIZII\n",
      "ZIIIII\n",
      "Single-Qubit Pauli X:\n",
      "IIIXII\n",
      "XIIIII\n",
      "Cliffords:\n",
      "IIIZII\t(0.7071067811865475+0j)\n",
      "IIIXII\t(0.7071067811865475+0j)\n",
      "\n",
      "ZIIIII\t(0.7071067811865475+0j)\n",
      "XIIIII\t(0.7071067811865475+0j)\n",
      "\n",
      "Qubit index:\n",
      "[2, 5]\n",
      "Tapering values:\n",
      "  - Possible values: [1, 1], [1, -1], [-1, 1], [-1, -1]\n",
      "[False False  True  True]\n"
     ]
    },
    {
     "data": {
      "image/png": "[encoded data removed]",
      "text/plain": [
       "<Figure size 298.592x264.88 with 1 Axes>"
      ]
     },
     "metadata": {},
     "output_type": "display_data"
    },
    {
     "name": "stdout",
     "output_type": "stream",
     "text": [
      "Number of Parameters 8\n",
      "Interatomic Distance: 3.9 VQE Result: -7.78246666405225 Exact Energy: [-7.78438961]\n",
      "All energies have been calculated\n"
     ]
    }
   ],
   "source": [
    "backend = BasicAer.get_backend(\"statevector_simulator\")\n",
    "#distances=[1.6]\n",
    "distances = np.arange(0.5, 4.0, 0.1)\n",
    "exact_energies = []\n",
    "vqe_energies = []\n",
    "optimizer = SLSQP(maxiter=5)\n",
    "#Sequential Least SQuares Programming optimizer (SLSQP)\n",
    "for dist in distances:\n",
    "    qubitOp, num_particles, num_spin_orbitals, shift = get_qubit_op(dist) #Returing multiple values in python function\n",
    "    result = NumPyEigensolver(qubitOp).run() #Just to check with result obtained from VQE\n",
    "    exact_energies.append(np.real(result.eigenvalues) + shift)\n",
    "    #Create initial Guess state(Ansatz)\n",
    "    initial_state = HartreeFock(\n",
    "        num_spin_orbitals,\n",
    "        num_particles,\n",
    "        qubit_mapping='parity'\n",
    "    ) \n",
    "    print(initial_state.bitstr)\n",
    "    HF_circuit=initial_state.construct_circuit('circuit')\n",
    "    display(HF_circuit.decompose().draw(output='mpl')) #inital Hatree Fock state\n",
    "    \n",
    "    #UCCSD is used as problem has one and two body integral\n",
    "    var_form = UCCSD(\n",
    "        num_orbitals=num_spin_orbitals,\n",
    "        num_particles=num_particles,\n",
    "        initial_state=initial_state,\n",
    "        qubit_mapping='parity'\n",
    "    )\n",
    "    #print(var_form.single_excitations)\n",
    "    print(\"Number of Parameters\",var_form.num_parameters)\n",
    "    #var_circuit=var_form.construct_circuit([2])\n",
    "    #display(var_circuit.decompose().draw('mpl'))\n",
    "    vqe = VQE(qubitOp, var_form, optimizer)\n",
    "    vqe_result = np.real(vqe.run(backend)['eigenvalue'] + shift)\n",
    "    vqe_energies.append(vqe_result)\n",
    "    print(\"Interatomic Distance:\", np.round(dist, 2), \"VQE Result:\", vqe_result, \"Exact Energy:\", exact_energies[-1])\n",
    "    \n",
    "print(\"All energies have been calculated\")"
   ]
  },
  {
   "cell_type": "code",
   "execution_count": 19,
   "metadata": {},
   "outputs": [
    {
     "data": {
      "image/png": "[encoded data removed]",
      "text/plain": [
       "<Figure size 432x288 with 1 Axes>"
      ]
     },
     "metadata": {
      "needs_background": "light"
     },
     "output_type": "display_data"
    }
   ],
   "source": [
    "plt.plot(distances, exact_energies, label=\"Exact Energy\")\n",
    "#plt.plot(distances, vqe_energies, label=\"VQE Energy\")\n",
    "plt.xlabel('Atomic distance (Angstrom)')\n",
    "plt.ylabel('Energy')\n",
    "plt.legend()\n",
    "plt.show()"
   ]
  },
  {
   "cell_type": "markdown",
   "metadata": {},
   "source": [
    "# Creating Variational Ansatz\n",
    "\n",
    "\n"
   ]
  },
  {
   "cell_type": "code",
   "execution_count": 57,
   "metadata": {},
   "outputs": [
    {
     "name": "stderr",
     "output_type": "stream",
     "text": [
      "two_qubit_reduction only works with parity qubit mapping but you have jordan_wigner. We switch two_qubit_reduction to False.\n"
     ]
    },
    {
     "name": "stdout",
     "output_type": "stream",
     "text": [
      "[False  True False  True]\n"
     ]
    },
    {
     "data": {
      "image/png": "[encoded data removed]",
      "text/plain": [
       "<Figure size 298.592x264.88 with 1 Axes>"
      ]
     },
     "metadata": {},
     "output_type": "display_data"
    },
    {
     "data": {
      "image/png": "[encoded data removed]",
      "text/plain": [
       "<Figure size 1261.79x264.88 with 1 Axes>"
      ]
     },
     "execution_count": 57,
     "metadata": {},
     "output_type": "execute_result"
    }
   ],
   "source": [
    "init_state=HartreeFock(num_orbitals=4,num_particles=2,qubit_mapping='jordan_wigner')\n",
    "print(init_state.bitstr) #give fermionic mode on which particle are occupied\n",
    "HF_circuit=init_state.construct_circuit('circuit')\n",
    "display(HF_circuit.decompose().draw('mpl'))\n",
    "UCCSD_var_form=UCCSD(num_orbitals=4,num_particles=2,qubit_mapping='jordan_wigner',excitation_type='s',\n",
    "                    method_singles='beta',initial_state=init_state,two_qubit_reduction=False,reps=1)\n",
    "var_circuit=UCCSD_var_form.construct_circuit([1])\n",
    "var_circuit.decompose().draw(output='mpl')\n",
    "#print(UCCSD_var_form.single_excitations)"
   ]
  },
  {
   "cell_type": "code",
   "execution_count": null,
   "metadata": {},
   "outputs": [],
   "source": []
  }
 ],
 "metadata": {
  "kernelspec": {
   "display_name": "Python 3",
   "language": "python",
   "name": "python3"
  },
  "language_info": {
   "codemirror_mode": {
    "name": "ipython",
    "version": 3
   },
   "file_extension": ".py",
   "mimetype": "text/x-python",
   "name": "python",
   "nbconvert_exporter": "python",
   "pygments_lexer": "ipython3",
   "version": "3.7.6"
  }
 },
 "nbformat": 4,
 "nbformat_minor": 2
}
